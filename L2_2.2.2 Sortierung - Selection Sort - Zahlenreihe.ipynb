{
 "cells": [
  {
   "cell_type": "markdown",
   "metadata": {
    "nbgrader": {
     "grade": false,
     "grade_id": "cell-a55157c4781dfce8",
     "locked": true,
     "schema_version": 3,
     "solution": false,
     "task": false
    }
   },
   "source": [
    "# L2_2.2.2\tSortierung: \tSelection Sort – Zahlenreihe\n",
    "### Hinweis\n",
    "Beachten Sie zur Bearbeitung der nachfolgenden Aufgabenstellungen die Informationsmaterialien \n",
    "* L2_2.2 Information_Selection_Sort.docx\n",
    "\n",
    "## Problemstellung\n",
    "Sie sollen ein Programm schreiben, das fünf Zahlen einliest und diese wieder sortiert ausgibt. Implementieren Sie für die Sortierung den **Selection Sort**.\n",
    "\n",
    "## Problemanalyse\n",
    "### 1. Welche Ausgabedaten will man erhalten?"
   ]
  },
  {
   "cell_type": "markdown",
   "metadata": {
    "nbgrader": {
     "grade": true,
     "grade_id": "cell-0a84cd9ce2a42329",
     "locked": false,
     "points": 0,
     "schema_version": 3,
     "solution": true,
     "task": false
    }
   },
   "source": [
    "### BEGIN SOLUTION\n",
    "Sortiertes Array \n",
    "### END SOLUTION"
   ]
  },
  {
   "cell_type": "markdown",
   "metadata": {
    "nbgrader": {
     "grade": false,
     "grade_id": "cell-e991a685ba6c4fec",
     "locked": true,
     "schema_version": 3,
     "solution": false,
     "task": false
    }
   },
   "source": [
    "### 2. Welche Eingabedaten werden zur Bearbeitung benötigt?"
   ]
  },
  {
   "cell_type": "markdown",
   "metadata": {
    "nbgrader": {
     "grade": true,
     "grade_id": "cell-7fc0a7511f81270e",
     "locked": false,
     "points": 0,
     "schema_version": 3,
     "solution": true,
     "task": false
    }
   },
   "source": [
    "### BEGIN SOLUTION\n",
    "Fünf Zahlen\n",
    "### END SOLUTION"
   ]
  },
  {
   "cell_type": "markdown",
   "metadata": {
    "nbgrader": {
     "grade": false,
     "grade_id": "cell-410a9fe8624a2793",
     "locked": true,
     "schema_version": 3,
     "solution": false,
     "task": false
    }
   },
   "source": [
    "### 3. Welche Eigenschaften haben die Eingabe-, Verarbeitungs- und Ausgabedaten? (Variablenliste)"
   ]
  },
  {
   "cell_type": "markdown",
   "metadata": {
    "nbgrader": {
     "grade": true,
     "grade_id": "cell-8f4c86a80dc563b7",
     "locked": false,
     "points": 0,
     "schema_version": 3,
     "solution": true,
     "task": false
    }
   },
   "source": [
    "|Bedeutung|Typ/Struktur|Variable|\n",
    "|:----|:----|:----|\n",
    "|hier | schreiben | ...|\n",
    "### BEGIN SOLUTION\n",
    "|Zahlen|Array|zahlen|\n",
    "|Anzahl der Elemente des Arrays zahlen|Ganzzahl|laenge|\n",
    "|Aktuelle Zahl (bzw. deren Index)|Ganzzahl|akt_idx|\n",
    "|kleinste Zahl (bzw. deren Index)|Ganzzahl|min_idx|\n",
    "|Zwischenspeicher|Ganzzahl|zwischenspeicher|\n",
    "### END SOLUTION"
   ]
  },
  {
   "cell_type": "markdown",
   "metadata": {
    "nbgrader": {
     "grade": false,
     "grade_id": "cell-420de387f7699ced",
     "locked": true,
     "schema_version": 3,
     "solution": false,
     "task": false
    }
   },
   "source": [
    "### 4. Gewünschter Ablauf des Programms mit Beispieldaten\n",
    "|||\n",
    "|:--|:---|\n",
    "|**Eingabe**|Zahl 1: 5 <br> Zahl 2: 6 <br> Zahl 3: 1<br> Zahl 4: 2 <br> Zahl 5: 3|\n",
    "|**Ausgabe**|1 <br> 2 <br> 3<br> 5 <br> 6|\n",
    "\n",
    "## Programmcode"
   ]
  },
  {
   "cell_type": "code",
   "execution_count": null,
   "metadata": {
    "nbgrader": {
     "grade": false,
     "grade_id": "cell-9a03770aa7e62517",
     "locked": false,
     "schema_version": 3,
     "solution": true,
     "task": false
    }
   },
   "outputs": [],
   "source": [
    "# Array deklarieren und initialisieren\n",
    "zahlen = []\n",
    "# Zahlen einlesen\n",
    "zahlen.append(int(input(\"Zahl 1: \")))\n",
    "zahlen.append(int(input(\"Zahl 2: \")))\n",
    "zahlen.append(int(input(\"Zahl 3: \")))\n",
    "zahlen.append(int(input(\"Zahl 4: \")))\n",
    "zahlen.append(int(input(\"Zahl 5: \")))\n",
    "\n",
    "#Sortierung\n",
    "### BEGIN SOLUTION\n",
    "laenge = len(zahlen)\n",
    "\n",
    "for akt_idx in range(laenge):\n",
    "    min_idx = akt_idx\n",
    "    for j in range(akt_idx + 1,laenge):\n",
    "        #Suche nach der niedrigsten Zahl\n",
    "        if zahlen[j] < zahlen[min_idx]:\n",
    "            min_idx = j\n",
    "    #Tausch\n",
    "    if akt_idx != min_idx:\n",
    "        zwischenspeicher = zahlen[akt_idx]\n",
    "        zahlen[akt_idx] = zahlen [min_idx]\n",
    "        zahlen[min_idx] = zwischenspeicher\n",
    "### END SOLUTION\n",
    "\n",
    "#Ausgabe\n",
    "print(zahlen) \n"
   ]
  },
  {
   "cell_type": "markdown",
   "metadata": {
    "nbgrader": {
     "grade": true,
     "grade_id": "cell-4d759bfe3defc5ae",
     "locked": false,
     "points": 0,
     "schema_version": 3,
     "solution": true,
     "task": false
    }
   },
   "source": [
    "## Struktogramm\n",
    "### BEGIN SOLUTION\n",
    "\n",
    "### END SOLUTION"
   ]
  }
 ],
 "metadata": {
  "celltoolbar": "Create Assignment",
  "kernelspec": {
   "display_name": "Python 3",
   "language": "python",
   "name": "python3"
  },
  "language_info": {
   "codemirror_mode": {
    "name": "ipython",
    "version": 3
   },
   "file_extension": ".py",
   "mimetype": "text/x-python",
   "name": "python",
   "nbconvert_exporter": "python",
   "pygments_lexer": "ipython3",
   "version": "3.7.3"
  }
 },
 "nbformat": 4,
 "nbformat_minor": 4
}
