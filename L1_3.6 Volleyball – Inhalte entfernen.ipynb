{
 "cells": [
  {
   "cell_type": "markdown",
   "metadata": {
    "nbgrader": {
     "grade": false,
     "grade_id": "cell-2b3a56e0d4a42133",
     "locked": true,
     "schema_version": 3,
     "solution": false,
     "task": false
    }
   },
   "source": [
    "# L1_3.6\tVolleyball – Inhalte entfernen\n",
    "\n",
    "### Hinweis\n",
    "Beachten Sie zur Bearbeitung der nachfolgenden Problemstellung das Informationsmaterial \n",
    "L1_3.6 Information_Elemente_entfernen.docx\n",
    "\n",
    "## Problemstellung\n",
    "Die Software des Trainers der Abteilung Volleyball des Sportvereines Mühlberger SC enthält ein Array mit allen Spielernamen des Mannschaftskaders. \n",
    "\n",
    "    kader =\t[\"Armin\", \"Batu\", \"Kai\", \"Sven\", \"Paul\", \"Milan\", \"Goran\", \"Chris\", \"Nico\", \n",
    "\t \"Dennis\", \"Emin\", \"Luca\"];\n",
    "     \n",
    "Mit Hilfe der Software soll es möglich sein, den Spieler an einer bestimmten Stelle des Arrays zu entfernen.\n",
    "z. B.:\tSpieler entfernen an der Stelle mit dem Index: 4\n",
    "Das Array kader soll danach folgenden Inhalt haben:\n",
    "\n",
    "\tkader = [\"Armin\", \"Batu\", \"Kai\", \"Sven\", \"Milan\", \"Goran\", \"Chris\", \"Nico\", \n",
    "\t                \"Dennis\", \"Emin\", \"Luca\"]\n",
    "Implementieren Sie eine Funktion entferne_spieler(), mit der ein Spieler aus dem Array entfernt wird.\n",
    "\n",
    "## Problemanalyse\n",
    "### 1. Welche Ausgabedaten will man erhalten?"
   ]
  },
  {
   "cell_type": "markdown",
   "metadata": {
    "nbgrader": {
     "grade": true,
     "grade_id": "cell-d8578cb049ab1c7c",
     "locked": false,
     "points": 0,
     "schema_version": 3,
     "solution": true,
     "task": false
    }
   },
   "source": [
    "### BEGIN SOLUTION\n",
    "Array ohne den entfernten Eintrag\n",
    "### END SOLUTION"
   ]
  },
  {
   "cell_type": "markdown",
   "metadata": {
    "nbgrader": {
     "grade": false,
     "grade_id": "cell-8a60c406362a048a",
     "locked": true,
     "schema_version": 3,
     "solution": false,
     "task": false
    }
   },
   "source": [
    "### 2. Welche Eingabedaten werden zur Bearbeitung benötigt?"
   ]
  },
  {
   "cell_type": "markdown",
   "metadata": {
    "nbgrader": {
     "grade": true,
     "grade_id": "cell-8d5f1ef9e338b71b",
     "locked": false,
     "points": 0,
     "schema_version": 3,
     "solution": true,
     "task": false
    }
   },
   "source": [
    "### BEGIN SOLUTION\n",
    "Index der Stelle, an welcher der Eintrag entfernt werden soll\n",
    "### END SOLUTION"
   ]
  },
  {
   "cell_type": "markdown",
   "metadata": {
    "nbgrader": {
     "grade": false,
     "grade_id": "cell-a8fddea03c4de6ad",
     "locked": true,
     "schema_version": 3,
     "solution": false,
     "task": false
    }
   },
   "source": [
    "### 3. Index der Stelle, an welcher der Eintrag entfernt werden soll"
   ]
  },
  {
   "cell_type": "markdown",
   "metadata": {
    "nbgrader": {
     "grade": true,
     "grade_id": "cell-da241f124f18062d",
     "locked": false,
     "points": 0,
     "schema_version": 3,
     "solution": true,
     "task": false
    }
   },
   "source": [
    "|Bedeutung|Typ/Struktur|Variable|\n",
    "|:----|:----|:----|\n",
    "|hier | schreiben| ...|\n",
    "### BEGIN SOLUTION\n",
    "|Anzahl der Elemente des Arrays kader|Ganzzahl|laenge|\n",
    "|Index des zu entfernenden Eintrags|Ganzzahl|index|\n",
    "### END SOLUTION"
   ]
  },
  {
   "cell_type": "markdown",
   "metadata": {
    "nbgrader": {
     "grade": false,
     "grade_id": "cell-73ed54d64987bdba",
     "locked": true,
     "schema_version": 3,
     "solution": false,
     "task": false
    }
   },
   "source": [
    "### 4. Gewünschter Ablauf des Programms mit Beispieldaten\n",
    "\n",
    "|||\n",
    "|:---|:---|\n",
    "Funktion entferne_spieler()\n",
    "|**Eingabe**|Entferne Spieler an der Stelle mit dem Index: 4|\n",
    "|**Ausgabe**| ------------------------<br> Kader <br> ------------------------ <br>Armin <br> Batu <br> Kai <br> Sven <br> Milan <br> Goran <br> Chris <br> Nico <br> Dennis <br> Emin <br> Luca|\n",
    "\n",
    "### 5. Verarbeitung\n",
    "Möglicherweise kennst du eine Funktion, die ganz easy diese Aufgabe übernimmt. Wir wollen hier aber die Kombination aus Umgang mit Arrays und **Schleifen** lernen.\n",
    "\n",
    "Deshalb wählen wir hier einen etwas komplizierten Weg:\n",
    "1. Arrayelement, das gelöscht werden soll (index), wird von dem Arrayelement dahinter (index + 1) überschrieben.\n",
    "2. Alle folgenden Arrayelemente werden wiederum von dem darauffolgenden Arrayelement überschrieben.\n",
    "3. Das letzte Element im Array kader erhält einen „leeren“ Eintrag.\n",
    "\n",
    "## Programmcode"
   ]
  },
  {
   "cell_type": "code",
   "execution_count": null,
   "metadata": {
    "nbgrader": {
     "grade": false,
     "grade_id": "cell-66589ae63b4d0647",
     "locked": false,
     "schema_version": 3,
     "solution": true,
     "task": false
    }
   },
   "outputs": [],
   "source": [
    "kader = [\"Armin\", \"Batu\", \"Kai\", \"Sven\", \"Paul\", \"Milan\", \"Goran\", \"Chris\",\"Nico\", \"Dennis\", \"Emin\", \"Luca\"]\n",
    "\n",
    "def zeige_kader():\n",
    "    print(\"------------------------\")\n",
    "    print(\"Kader\")\n",
    "    print(\"------------------------\")\n",
    "    for i in range(len(kader)):\n",
    "        print(i, \": \",kader[i])\n",
    "\n",
    "def entferne_spieler():\n",
    "### BEGIN SOLUTION\n",
    "    index = int(input(\"Entferne Spieler an der Stelle mit dem Index: \"))\n",
    "    \n",
    "    #Spieler rücken nach vorne auf\n",
    "    for i in range(index, len(kader)-1):    \n",
    "        kader[i] = kader[i+1]\n",
    "    \n",
    "    #letztes Element 'leeren'\n",
    "    kader[len(kader)-1] = \"\"\n",
    "    \n",
    "    zeige_kader()\n",
    "### END SOLUTION    \n",
    "    \n",
    "#Funktionsaufruf\n",
    "zeige_kader()\n",
    "entferne_spieler()"
   ]
  }
 ],
 "metadata": {
  "celltoolbar": "Create Assignment",
  "kernelspec": {
   "display_name": "Python 3",
   "language": "python",
   "name": "python3"
  },
  "language_info": {
   "codemirror_mode": {
    "name": "ipython",
    "version": 3
   },
   "file_extension": ".py",
   "mimetype": "text/x-python",
   "name": "python",
   "nbconvert_exporter": "python",
   "pygments_lexer": "ipython3",
   "version": "3.7.3"
  }
 },
 "nbformat": 4,
 "nbformat_minor": 4
}
