{
 "cells": [
  {
   "cell_type": "markdown",
   "metadata": {
    "nbgrader": {
     "grade": false,
     "grade_id": "cell-3295657b82c0bbdf",
     "locked": true,
     "schema_version": 3,
     "solution": false,
     "task": false
    }
   },
   "source": [
    "# L2_2.1.1\tSortierung: \tBubble Sort – Lottozahlen\n",
    "### Hinweis\n",
    "Beachten Sie zur Bearbeitung der nachfolgenden Aufgaben­stellungen die Informationsmaterialien \n",
    "* L2_2.1 Information_Bubble_Sort.docx\n",
    "* L2_2.1 Präsentation_Prinzip_Bubble_Sort.ppsx.\n",
    "\n",
    "## Problemstellung\n",
    "Die Zahlen der aktuellen Lottoziehung liegen in der Reihenfolge der Ziehung in einem Array lotto vor (48, 5, 17, 32, 7, 29) und sollen noch sortiert werden. Sie erhalten den Auftrag, ein entsprechendes Programm zu entwickeln, das die Lottozahlen mit Hilfe des Sortieralgorithmus 'Bubble Sort' sortiert und die sortierten Zahlen in der Konsole ausgibt.\n",
    "\n",
    "## Problemanalyse\n",
    "## 1. Welche Ausgabedaten will man erhalten?"
   ]
  },
  {
   "cell_type": "markdown",
   "metadata": {
    "nbgrader": {
     "grade": true,
     "grade_id": "cell-7dcfa72a36c55482",
     "locked": false,
     "points": 0,
     "schema_version": 3,
     "solution": true,
     "task": false
    }
   },
   "source": [
    "### BEGIN SOLUTION\n",
    "Sortiertes Array lotto[ ]\n",
    "### END SOLUTION"
   ]
  },
  {
   "cell_type": "markdown",
   "metadata": {
    "nbgrader": {
     "grade": false,
     "grade_id": "cell-d4802945079f9a0c",
     "locked": true,
     "schema_version": 3,
     "solution": false,
     "task": false
    }
   },
   "source": [
    "### 3. Welche Eingabedaten werden zur Bearbeitung benötigt?"
   ]
  },
  {
   "cell_type": "markdown",
   "metadata": {
    "nbgrader": {
     "grade": true,
     "grade_id": "cell-9d8f95096f60ebc5",
     "locked": false,
     "points": 0,
     "schema_version": 3,
     "solution": true,
     "task": false
    }
   },
   "source": [
    "### BEGIN SOLUTION\n",
    "keine\n",
    "### END SOLUTION"
   ]
  },
  {
   "cell_type": "markdown",
   "metadata": {
    "nbgrader": {
     "grade": false,
     "grade_id": "cell-6b9499aa4be7610a",
     "locked": true,
     "schema_version": 3,
     "solution": false,
     "task": false
    }
   },
   "source": [
    "### 3. Welche Eigenschaften haben die Eingabe-, Verarbeitungs- und Ausgabedaten? (Variablenliste)"
   ]
  },
  {
   "cell_type": "markdown",
   "metadata": {
    "nbgrader": {
     "grade": true,
     "grade_id": "cell-d54733a6ffe98572",
     "locked": false,
     "points": 0,
     "schema_version": 3,
     "solution": true,
     "task": false
    }
   },
   "source": [
    "|Bedeutung|Typ/Struktur|Variable|\n",
    "|:----|:----|:----|\n",
    "|hier | schreiben| ...|\n",
    "### BEGIN SOLUTION\n",
    "|Anzahl Elemente des Arrays lotto|Ganzzahl|laenge|\n",
    "|Zwischenspeicher|Ganzzahl|zwischenspeicher|\n",
    "### END SOLUTION"
   ]
  },
  {
   "cell_type": "markdown",
   "metadata": {
    "nbgrader": {
     "grade": false,
     "grade_id": "cell-212dc52727233d6e",
     "locked": true,
     "schema_version": 3,
     "solution": false,
     "task": false
    }
   },
   "source": [
    "### 4. Gewünschter Ablauf des Programms\n",
    "|||\n",
    "|:---|:---|\n",
    "|**Ausgabe**|[5, 7, 17, 29, 32, 48]|\n",
    "\n",
    "## Programmcode"
   ]
  },
  {
   "cell_type": "code",
   "execution_count": null,
   "metadata": {
    "nbgrader": {
     "grade": false,
     "grade_id": "cell-a4ccf0d9fa2a2f9f",
     "locked": false,
     "schema_version": 3,
     "solution": true,
     "task": false
    }
   },
   "outputs": [],
   "source": [
    "lotto = [48, 5, 17, 32 , 7, 29]\n",
    "laenge = len(lotto)\n",
    "\n",
    "#Sortieren\n",
    "### BEGIN SOLUTION\n",
    "for i in range(1,laenge):\n",
    "    for j in range(0,laenge-i):\n",
    "        if lotto[j] > lotto[j+1]:\n",
    "            zwischenspeicher = lotto[j]\n",
    "            lotto[j] = lotto[j+1]\n",
    "            lotto[j+1] = zwischenspeicher\n",
    "### END SOLUTION\n",
    "#Ausgabe\n",
    "print(lotto)"
   ]
  },
  {
   "cell_type": "markdown",
   "metadata": {
    "nbgrader": {
     "grade": true,
     "grade_id": "cell-6d8c3198fac11e1e",
     "locked": false,
     "points": 0,
     "schema_version": 3,
     "solution": true,
     "task": false
    }
   },
   "source": [
    "## Struktogramm\n",
    "### BEGIN SOLUTION\n",
    "\n",
    "### END SOLUTION"
   ]
  }
 ],
 "metadata": {
  "celltoolbar": "Create Assignment",
  "kernelspec": {
   "display_name": "Python 3",
   "language": "python",
   "name": "python3"
  },
  "language_info": {
   "codemirror_mode": {
    "name": "ipython",
    "version": 3
   },
   "file_extension": ".py",
   "mimetype": "text/x-python",
   "name": "python",
   "nbconvert_exporter": "python",
   "pygments_lexer": "ipython3",
   "version": "3.7.3"
  }
 },
 "nbformat": 4,
 "nbformat_minor": 4
}
