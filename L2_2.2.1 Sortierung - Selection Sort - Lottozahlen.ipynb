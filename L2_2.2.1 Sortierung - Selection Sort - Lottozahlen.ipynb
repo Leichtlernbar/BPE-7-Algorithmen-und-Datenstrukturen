{
 "cells": [
  {
   "cell_type": "markdown",
   "metadata": {
    "nbgrader": {
     "grade": false,
     "grade_id": "cell-c1e2a1bc57178fc1",
     "locked": true,
     "schema_version": 3,
     "solution": false,
     "task": false
    }
   },
   "source": [
    "# L2_2.2.1 Sortierung: Selection Sort – Lottozahlen\n",
    "### Hinweis\n",
    "Beachten Sie zur Bearbeitung der nachfolgenden Aufgabenstellungen die Informationsmaterialien \n",
    "* L2_2.2 Information_Selection_Sort.docx\n",
    "* L2_2.2 Präsentation_Prinzip_Selection_Sort.ppsx.\n",
    "\n",
    "## Problemstellung\n",
    "Die Zahlen der aktuellen Lottoziehung liegen in der Reihenfolge der Ziehung in einem Array lotto vor (48, 5, 17, 32, 7, 29) und sollen noch sortiert werden. Sie erhalten den Auftrag, ein entsprechendes Programm zu entwickeln, das die Lottozahlen mit Hilfe des Sortieralgorithmus 'Selection Sort' sortiert und die sortierten Zahlen in der Konsole ausgibt.\n",
    "\n",
    "## Problemanalyse\n",
    "### 1. Welche Ausgabedaten will man erhalten?"
   ]
  },
  {
   "cell_type": "markdown",
   "metadata": {
    "nbgrader": {
     "grade": true,
     "grade_id": "cell-94a517e6bf3d55b3",
     "locked": false,
     "points": 0,
     "schema_version": 3,
     "solution": true,
     "task": false
    }
   },
   "source": [
    "### BEGIN SOLUTION\n",
    "Sortiertes Array lotto[ ]\n",
    "### END SOLUTION"
   ]
  },
  {
   "cell_type": "markdown",
   "metadata": {
    "nbgrader": {
     "grade": false,
     "grade_id": "cell-c6ff13ce0bb37827",
     "locked": true,
     "schema_version": 3,
     "solution": false,
     "task": false
    }
   },
   "source": [
    "### 2. Welche Eingabedaten werden zur Bearbeitung benötigt?"
   ]
  },
  {
   "cell_type": "markdown",
   "metadata": {
    "nbgrader": {
     "grade": true,
     "grade_id": "cell-00fbe22923ee743c",
     "locked": false,
     "points": 0,
     "schema_version": 3,
     "solution": true,
     "task": false
    }
   },
   "source": [
    "### BEGIN SOLUTION\n",
    "keine\n",
    "### END SOLUTION"
   ]
  },
  {
   "cell_type": "markdown",
   "metadata": {
    "nbgrader": {
     "grade": true,
     "grade_id": "cell-220ffdd6c67419f2",
     "locked": false,
     "points": 0,
     "schema_version": 3,
     "solution": true,
     "task": false
    }
   },
   "source": [
    "### 3. Welche Eigenschaften haben die Eingabe-, Verarbeitungs- und Ausgabedaten? (Variablenliste)\n",
    "|Bedeutung|Typ/Struktur|Variable|\n",
    "|:----|:----|:----|\n",
    "|Lottozahlen (gegeben) | Array | lotto|\n",
    "### BEGIN SOLUTION\n",
    "|Aktuelle Zahl (bzw. deren Index)|Ganzzahl|akt_idx|\n",
    "|Kleinste Zahl (bzw. deren Index)|Ganzzahl|min_idx|\n",
    "|Zwischenspeicher|Ganzzahl|zwischenspeicher|\n",
    "### END SOLUTION"
   ]
  },
  {
   "cell_type": "markdown",
   "metadata": {
    "nbgrader": {
     "grade": false,
     "grade_id": "cell-04b1bacf93d789df",
     "locked": true,
     "schema_version": 3,
     "solution": false,
     "task": false
    }
   },
   "source": [
    "### 4. Gewünschter Ablauf des Programms mit Beispieldaten\n",
    "|||\n",
    "|:--|:---|\n",
    "|**Ausgabe**|[5, 7, 17, 29, 32, 48]|\n",
    "\n",
    "## Programmcode"
   ]
  },
  {
   "cell_type": "code",
   "execution_count": null,
   "metadata": {
    "nbgrader": {
     "grade": false,
     "grade_id": "cell-861073aff4f2bb94",
     "locked": false,
     "schema_version": 3,
     "solution": true,
     "task": false
    }
   },
   "outputs": [],
   "source": [
    "lotto= [48, 5, 17, 32, 7, 29]\n",
    "### BEGIN SOLUTION\n",
    "laenge = len(lotto)\n",
    "for akt_idx in range(laenge):\n",
    "    min_idx = akt_idx\n",
    "    for j in range(akt_idx + 1, laenge):\n",
    "        #Suche nach der niedrigsten Zahl\n",
    "        if lotto[j] < lotto[min_idx]:\n",
    "            min_idx = j\n",
    "    #Tausch\n",
    "    if akt_idx != min_idx:\n",
    "        zwischenspeicher = lotto[akt_idx]\n",
    "        lotto[akt_idx] = lotto [min_idx]\n",
    "        lotto[min_idx] = zwischenspeicher\n",
    "### END SOLUTION\n",
    "#Ausgabe\n",
    "print(lotto)"
   ]
  },
  {
   "cell_type": "markdown",
   "metadata": {
    "nbgrader": {
     "grade": true,
     "grade_id": "cell-b67e29a49978a2ac",
     "locked": false,
     "points": 0,
     "schema_version": 3,
     "solution": true,
     "task": false
    }
   },
   "source": [
    "## Struktogramm\n",
    "### BEGIN SOLUTION\n",
    "\n",
    "### END SOLUTION"
   ]
  }
 ],
 "metadata": {
  "celltoolbar": "Create Assignment",
  "kernelspec": {
   "display_name": "Python 3",
   "language": "python",
   "name": "python3"
  },
  "language_info": {
   "codemirror_mode": {
    "name": "ipython",
    "version": 3
   },
   "file_extension": ".py",
   "mimetype": "text/x-python",
   "name": "python",
   "nbconvert_exporter": "python",
   "pygments_lexer": "ipython3",
   "version": "3.7.3"
  }
 },
 "nbformat": 4,
 "nbformat_minor": 4
}
