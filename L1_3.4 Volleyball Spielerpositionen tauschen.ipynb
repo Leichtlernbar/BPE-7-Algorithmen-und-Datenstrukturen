{
 "cells": [
  {
   "cell_type": "markdown",
   "metadata": {
    "nbgrader": {
     "grade": false,
     "grade_id": "cell-e90115f544b614cb",
     "locked": true,
     "schema_version": 3,
     "solution": false,
     "task": false
    }
   },
   "source": [
    "# L1_3.4\tVolleyball: Spielerpositionen tauschen – Index\n",
    "\n",
    "## Problemstellung\n",
    "\n",
    "<img src=\"https://sylvialange.de/bilder/aufstellung.png\" style=\"width: 200px; float: right;\">\n",
    "\n",
    "Der Trainer der Abteilung Volleyball des Sportvereines Mühlberger SC möchte eine Erweiterung seiner Software.\n",
    "Die Namen der Stammspieler sind in dem Array spieler in der Reihenfolge ihrer Startpositionen erfasst.\n",
    "\n",
    "    spieler = [\"Armin\", \"Batu\", \"Kai\", \"Sven\", \"Paul\", \"Milan\"]\n",
    "    \n",
    "Beachten Sie: \tDie Startposition 1 erhält den Index 0 des Arrays, denn bei Arrays **beginnt die Zählung immer mit 0!**\n",
    "Die Software soll es ermöglichen, Spielerpositionen in der Startaufstellung zu tauschen. Nach der Eingabe von zwei Spielerpositionen sollen die entsprechenden Spielernamen im Array spieler getauscht und anschließend das Array mit \n",
    "der neuen Startaufstellung angezeigt werden. \n",
    "Z.B.:\tTausch der Spielerpositionen 2 (Batu) und 4 (Sven).\n",
    "Das Array spieler soll danach folgenden Inhalt haben:\n",
    "\n",
    "    spieler = [\"Armin\", \"Sven\", \"Kai\", \"Batu\", \"Paul\", \"Milan\"]\n",
    "\n",
    "Implementieren Sie eine Funktion **mannschaft_umstellen_pos()**, die das beschriebene Problem löst."
   ]
  },
  {
   "cell_type": "markdown",
   "metadata": {
    "nbgrader": {
     "grade": false,
     "grade_id": "cell-eb734c570467b138",
     "locked": true,
     "schema_version": 3,
     "solution": false,
     "task": false
    }
   },
   "source": [
    "## Problemanalyse\n",
    "### 1. Welche Ausgabedaten will man erhalten?"
   ]
  },
  {
   "cell_type": "markdown",
   "metadata": {
    "nbgrader": {
     "grade": true,
     "grade_id": "cell-6e461e946590876f",
     "locked": false,
     "points": 0,
     "schema_version": 3,
     "solution": true,
     "task": false
    }
   },
   "source": [
    "### BEGIN SOLUTION\n",
    "das Array mit der neuen Startaufstellung\n",
    "### END SOLUTION"
   ]
  },
  {
   "cell_type": "markdown",
   "metadata": {
    "nbgrader": {
     "grade": false,
     "grade_id": "cell-455dbd4bb55eea63",
     "locked": true,
     "schema_version": 3,
     "solution": false,
     "task": false
    }
   },
   "source": [
    "### 2. Welche Eingabedaten werden zur Bearbeitung benötigt?"
   ]
  },
  {
   "cell_type": "markdown",
   "metadata": {
    "nbgrader": {
     "grade": true,
     "grade_id": "cell-8830a62f58d5a410",
     "locked": false,
     "points": 0,
     "schema_version": 3,
     "solution": true,
     "task": false
    }
   },
   "source": [
    "### BEGIN SOLUTION\n",
    "die Positionen, die zu tauschen sind\n",
    "### END SOLUTION"
   ]
  },
  {
   "cell_type": "markdown",
   "metadata": {
    "nbgrader": {
     "grade": false,
     "grade_id": "cell-b19dd99231bca88d",
     "locked": true,
     "schema_version": 3,
     "solution": false,
     "task": false
    }
   },
   "source": [
    "### 3. Welche Eigenschaften haben die Eingabe-, Verarbeitungs- und Ausgabedaten? (Variablenliste)"
   ]
  },
  {
   "cell_type": "markdown",
   "metadata": {
    "nbgrader": {
     "grade": true,
     "grade_id": "cell-0553801d86ba8856",
     "locked": false,
     "points": 0,
     "schema_version": 3,
     "solution": true,
     "task": false
    }
   },
   "source": [
    "|Bedeutung|Typ/Struktur|Variable|\n",
    "|----|----|----|\n",
    "|hier | schreiben| ...|\n",
    "### BEGIN SOLUTION\n",
    "|Nummer der ersten Position|Ganzzahl | position_a|\n",
    "|Nummer der zweiten Position|Ganzzahl| position_b|\n",
    "|Zwischenspeicher|Zeichenkette|zwischenspeicher|\n",
    "### END SOLUTION"
   ]
  },
  {
   "cell_type": "markdown",
   "metadata": {
    "nbgrader": {
     "grade": false,
     "grade_id": "cell-dea27f0f525c4914",
     "locked": true,
     "schema_version": 3,
     "solution": false,
     "task": false
    }
   },
   "source": [
    "### 4. Gewünschter Ablauf des Programms mit Beispieldaten\n",
    "\n",
    "|||\n",
    "|:---|:---|\n",
    "|Funktion mannschaft_umstellen_pos() ||\n",
    "|**Eingabe:**| Startaufstellung umstellen <br> Tausche Position: 2 <br> mit Position: 4 |\n",
    "|**Ausgabe:**| ----------------------------<br> Neue Startaufstellung <br> ---------------------------- <br> Armin<br> Sven<br> Kai<br> Batu<br> Paul<br> Milan|"
   ]
  },
  {
   "cell_type": "markdown",
   "metadata": {
    "nbgrader": {
     "grade": false,
     "grade_id": "cell-1d45c7cec41e9fd1",
     "locked": true,
     "schema_version": 3,
     "solution": false,
     "task": false
    }
   },
   "source": [
    "## Programmcode\n",
    "\n",
    "Ergänzen Sie den folgenden Code."
   ]
  },
  {
   "cell_type": "code",
   "execution_count": null,
   "metadata": {
    "nbgrader": {
     "grade": false,
     "grade_id": "cell-4e11039df420991e",
     "locked": false,
     "schema_version": 3,
     "solution": true,
     "task": false
    }
   },
   "outputs": [],
   "source": [
    "spieler = [\"Armin\", \"Batu\", \"Kai\", \"Sven\", \"Paul\", \"Milan\"]\n",
    "\n",
    "def zeige_startaufstellung():\n",
    "    print(\"------------------------\")\n",
    "    print(\"Neue Startaufstellung\")\n",
    "    print(\"------------------------\")\n",
    "    for i in range(len(spieler)):\n",
    "        print(i+1, \": \",spieler[i])\n",
    "\n",
    "def mannschaft_umstellen_pos():\n",
    "### BEGIN SOLUTION\n",
    "    print(\"Startaufstellung umstellen\")\n",
    "    position_a = int(input((\"Tausche Position: \")))\n",
    "    position_b = int(input((\"mit Position: \")))\n",
    "    zwischenspeicher = spieler[position_b-1]\n",
    "    spieler[position_b-1] = spieler[position_a-1]\n",
    "    spieler[position_a-1] = zwischenspeicher\n",
    "    zeige_startaufstellung()\n",
    "### END SOLUTION\n",
    "    \n",
    "#Funktionsaufruf\n",
    "zeige_startaufstellung()\n",
    "mannschaft_umstellen_pos()"
   ]
  }
 ],
 "metadata": {
  "celltoolbar": "Create Assignment",
  "kernelspec": {
   "display_name": "Python 3",
   "language": "python",
   "name": "python3"
  },
  "language_info": {
   "codemirror_mode": {
    "name": "ipython",
    "version": 3
   },
   "file_extension": ".py",
   "mimetype": "text/x-python",
   "name": "python",
   "nbconvert_exporter": "python",
   "pygments_lexer": "ipython3",
   "version": "3.7.3"
  }
 },
 "nbformat": 4,
 "nbformat_minor": 4
}
