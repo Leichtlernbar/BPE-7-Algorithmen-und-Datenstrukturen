{
 "cells": [
  {
   "cell_type": "markdown",
   "metadata": {
    "nbgrader": {
     "grade": false,
     "grade_id": "cell-23345be57c26038d",
     "locked": true,
     "schema_version": 3,
     "solution": false,
     "task": false
    }
   },
   "source": [
    "# L1_2 Weltmeister\n",
    "Hinweis: Beachten Sie zur Bearbeitung der nachfolgenden Aufgaben das Informationsmaterial\n",
    "L1_2 Information_Array.docx.\n",
    "\n",
    "## Aufgabe 1\n",
    "Formulieren Sie den Code, der die nachfolgend beschriebenen Anweisungen ausführt.\n",
    "\n",
    "## Aufgabe 1.1\n",
    "Erzeugen Sie ein Array mit dem Namen weltmeister und den Werten 1954, 1974, 1990 und 2014.\n",
    "Geben Sie das Array aus (print())."
   ]
  },
  {
   "cell_type": "code",
   "execution_count": 4,
   "metadata": {
    "nbgrader": {
     "grade": false,
     "grade_id": "cell-175cbcab7b83c434",
     "locked": false,
     "schema_version": 3,
     "solution": true,
     "task": false
    }
   },
   "outputs": [
    {
     "name": "stdout",
     "output_type": "stream",
     "text": [
      "[1954, 1974, 1990, 2014]\n"
     ]
    }
   ],
   "source": [
    "### BEGIN SOLUTION\n",
    "weltmeister = [1954, 1974, 1990, 2014]\n",
    "print(weltmeister)\n",
    "### END SOLUTION"
   ]
  },
  {
   "cell_type": "markdown",
   "metadata": {
    "nbgrader": {
     "grade": false,
     "grade_id": "cell-e916d165fcb76715",
     "locked": true,
     "schema_version": 3,
     "solution": false,
     "task": false
    }
   },
   "source": [
    "## Aufgabe 1.2\n",
    "Erzeugen Sie ein Array wmtrainer und den Werten „Sepp Herberger“, „Helmut Schön“ und „Franz Beckenbauer“. Und geben Sie das Array aus."
   ]
  },
  {
   "cell_type": "code",
   "execution_count": 6,
   "metadata": {
    "nbgrader": {
     "grade": false,
     "grade_id": "cell-11e55e2371be98e4",
     "locked": false,
     "schema_version": 3,
     "solution": true,
     "task": false
    }
   },
   "outputs": [
    {
     "name": "stdout",
     "output_type": "stream",
     "text": [
      "['Sepp Herberger', 'Helmut Schön', 'Franz Beckenbauer']\n"
     ]
    }
   ],
   "source": [
    "### BEGIN SOLUTION\n",
    "wmtrainer = [\"Sepp Herberger\", \"Helmut Schön\", \"Franz Beckenbauer\"]\n",
    "print(wmtrainer)\n",
    "### END SOLUTION"
   ]
  },
  {
   "cell_type": "markdown",
   "metadata": {
    "nbgrader": {
     "grade": false,
     "grade_id": "cell-f15cca7e36c3bcde",
     "locked": true,
     "schema_version": 3,
     "solution": false,
     "task": false
    }
   },
   "source": [
    "## Aufgabe 1.3\n",
    "Fügen Sie in die Liste wmtrainer den Namen „Joachim Löw“ am Ende ein. Geben Sie das Array zur Kontrolle aus."
   ]
  },
  {
   "cell_type": "code",
   "execution_count": 7,
   "metadata": {
    "nbgrader": {
     "grade": false,
     "grade_id": "cell-57a96c9f66a0de13",
     "locked": false,
     "schema_version": 3,
     "solution": true,
     "task": false
    }
   },
   "outputs": [
    {
     "name": "stdout",
     "output_type": "stream",
     "text": [
      "['Sepp Herberger', 'Helmut Schön', 'Franz Beckenbauer', 'Joachim Löw']\n"
     ]
    }
   ],
   "source": [
    "### BEGIN SOLUTION\n",
    "wmtrainer.append(\"Joachim Löw\")\n",
    "print(wmtrainer)\n",
    "### END SOLUTION"
   ]
  },
  {
   "cell_type": "markdown",
   "metadata": {
    "nbgrader": {
     "grade": false,
     "grade_id": "cell-61446254f2a18d35",
     "locked": true,
     "schema_version": 3,
     "solution": false,
     "task": false
    }
   },
   "source": [
    "## Aufgabe 1.4\n",
    "Im Array weltmeister sind die Jahre gespeichert, in denen die deutsche Fußball-Nationalmannschaft Weltmeister geworden ist. Die Anzahl der Weltmeistertitel soll ausgegeben werden."
   ]
  },
  {
   "cell_type": "code",
   "execution_count": 9,
   "metadata": {
    "nbgrader": {
     "grade": false,
     "grade_id": "cell-c0fd05e3e82cd639",
     "locked": false,
     "schema_version": 3,
     "solution": true,
     "task": false
    }
   },
   "outputs": [
    {
     "name": "stdout",
     "output_type": "stream",
     "text": [
      "Anzahl Weltmeistertitel:  4\n"
     ]
    }
   ],
   "source": [
    "### BEGIN SOLUTION\n",
    "print(\"Anzahl Weltmeistertitel: \",len(weltmeister))\n",
    "### END SOLUTION"
   ]
  },
  {
   "cell_type": "markdown",
   "metadata": {
    "nbgrader": {
     "grade": false,
     "grade_id": "cell-2fa8588dccfdd62c",
     "locked": true,
     "schema_version": 3,
     "solution": false,
     "task": false
    }
   },
   "source": [
    "## Aufgabe 1.5\n",
    "Alle im Array wmtrainer gespeicherten Namen sollen in der Konsole angezeigt werden. (Ohne Klammer, hübsch jeder Name in einer eigenen Zeile.)"
   ]
  },
  {
   "cell_type": "code",
   "execution_count": 11,
   "metadata": {
    "nbgrader": {
     "grade": false,
     "grade_id": "cell-f73944b8d8e4f3f9",
     "locked": false,
     "schema_version": 3,
     "solution": true,
     "task": false
    }
   },
   "outputs": [
    {
     "name": "stdout",
     "output_type": "stream",
     "text": [
      "Sepp Herberger\n",
      "Helmut Schön\n",
      "Franz Beckenbauer\n",
      "Joachim Löw\n"
     ]
    }
   ],
   "source": [
    "### BEGIN SOLUTION\n",
    "for i in range(len(wmtrainer)):\n",
    "    print(wmtrainer[i])\n",
    "### END SOLUTION"
   ]
  },
  {
   "cell_type": "markdown",
   "metadata": {
    "nbgrader": {
     "grade": false,
     "grade_id": "cell-49660f67df6d75ee",
     "locked": true,
     "schema_version": 3,
     "solution": false,
     "task": false
    }
   },
   "source": [
    "## Aufgabe 2 - Bleistift+Papier-Aufgabe\n",
    "Das Array a = [1, 5, 20, 9, 4, 3, 1] ist gegeben und wird durch den folgenden Algorithmus verändert. Durchlaufen Sie den Algorithmus mit dem gegebenen Array und nennen\n",
    "Sie den Arrayinhalt nach jeder Anweisung. (Diese Aufgabe kann hier auf Papier gelöst werden.)"
   ]
  },
  {
   "cell_type": "markdown",
   "metadata": {
    "nbgrader": {
     "grade": true,
     "grade_id": "cell-a45920dd539c25b5",
     "locked": false,
     "points": 0,
     "schema_version": 3,
     "solution": true,
     "task": false
    }
   },
   "source": [
    "|Algorithmus|Array|\n",
    "|---|----|\n",
    "|a = [1, 5, 20, 9, 4, 3, 1] | [1, 5, 20, 9, 4, 3, 1] |\n",
    "|a[1] = a[2] | ...|\n",
    "|a[5] = a[5] + a[6] | ...|\n",
    "|a[6] = 4| ...|\n",
    "|a.append(4)| ...|\n",
    "| i = 3 | ...|\n",
    "| a[i] = i | ...|"
   ]
  }
 ],
 "metadata": {
  "celltoolbar": "Create Assignment",
  "kernelspec": {
   "display_name": "Python 3",
   "language": "python",
   "name": "python3"
  },
  "language_info": {
   "codemirror_mode": {
    "name": "ipython",
    "version": 3
   },
   "file_extension": ".py",
   "mimetype": "text/x-python",
   "name": "python",
   "nbconvert_exporter": "python",
   "pygments_lexer": "ipython3",
   "version": "3.7.3"
  }
 },
 "nbformat": 4,
 "nbformat_minor": 4
}
