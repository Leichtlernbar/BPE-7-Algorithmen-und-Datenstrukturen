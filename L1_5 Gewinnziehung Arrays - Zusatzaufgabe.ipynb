{
 "cells": [
  {
   "cell_type": "markdown",
   "metadata": {
    "nbgrader": {
     "grade": false,
     "grade_id": "cell-af8eaa30b07dd6b9",
     "locked": true,
     "schema_version": 3,
     "solution": false,
     "task": false
    }
   },
   "source": [
    "# L1_5\tGewinnziehung Arrays  –  Zusatzaufgabe\n",
    "\n",
    "### Hinweis\n",
    "Beachten Sie zur Bearbeitung der nachfolgenden Problemstellung das \n",
    "* Informationsmaterial L1_2 Information_Array.docx\n",
    "* sowie: „Der Baustein random“\n",
    "(https://www.inf-schule.de/programmierung/imperativeprogrammierung/fallstudien/kontrollstrukturen/fallstudie_zufallsexperimente/zufallszahlen)\n",
    "\n",
    "## Problemstellung\n",
    "Bei den Dart-Events findet auch eine große Gewinnlotterie mit Sachpreisen statt. Von nun an sollen die Lose nicht mehr per Hand gezogen, sondern automatisch vom Programm ermittelt werden. \n",
    "Es werden 500 Lose verkauft (Nr. 1 – 500) und jede Losnummer fängt mit den Ziffern 1000 an (Losnummern von 10001 – 1000500). Nachdem der Ziehungsleiter die Anzahl der Gewinnlose eingegeben hat, soll die Ziehung automatisch und zufällig vom Programm ausgeführt werden. Die Gewinnerlose sollen in der Konsole ausgegeben werden.\n",
    "\n",
    "\n",
    "## Problemanalyse\n",
    "### 1. Welche Ausgabedaten will man erhalten?"
   ]
  },
  {
   "cell_type": "markdown",
   "metadata": {
    "nbgrader": {
     "grade": true,
     "grade_id": "cell-21450cc4f4623c82",
     "locked": false,
     "points": 0,
     "schema_version": 3,
     "solution": true,
     "task": false
    }
   },
   "source": [
    "### BEGIN SOLUTION\n",
    "Gewinnlosnummer\n",
    "### END SOLUTION"
   ]
  },
  {
   "cell_type": "markdown",
   "metadata": {
    "nbgrader": {
     "grade": false,
     "grade_id": "cell-d52e318de43957dc",
     "locked": true,
     "schema_version": 3,
     "solution": false,
     "task": false
    }
   },
   "source": [
    "### 2. Welche Eingabedaten werden zur Bearbeitung benötigt?"
   ]
  },
  {
   "cell_type": "markdown",
   "metadata": {
    "nbgrader": {
     "grade": true,
     "grade_id": "cell-d8612d00522a0a05",
     "locked": false,
     "points": 0,
     "schema_version": 3,
     "solution": true,
     "task": false
    }
   },
   "source": [
    "### BEGIN SOLUTION\n",
    "Anzahl der Gewinnlose\n",
    "### END SOLUTION"
   ]
  },
  {
   "cell_type": "markdown",
   "metadata": {
    "nbgrader": {
     "grade": false,
     "grade_id": "cell-bf5ede4599f41480",
     "locked": true,
     "schema_version": 3,
     "solution": false,
     "task": false
    }
   },
   "source": [
    "### 3. Welche Eigenschaften haben die Eingabe-, Verarbeitungs- und Ausgabedaten? (Variablenliste)"
   ]
  },
  {
   "cell_type": "markdown",
   "metadata": {
    "nbgrader": {
     "grade": true,
     "grade_id": "cell-075bda5ecbdd2ead",
     "locked": false,
     "points": 0,
     "schema_version": 3,
     "solution": true,
     "task": false
    }
   },
   "source": [
    "|Bedeutung|Typ/Struktur|Variable|\n",
    "|:----|:----|:----|\n",
    "|hier | schreiben| ...|\n",
    "### BEGIN SOLUTION\n",
    "|Gewinnlosnummer|Array|gewinnlose|\n",
    "|Anzahl der Gewinnerlose|Ganzzahl|anzahl_lose|\n",
    "|Zufallszahl|Ganzzahl|z_zahl|\n",
    "|Ziffernfolge der Losnummer|Zeichenkette|losnummer|\n",
    "### END SOLUTION"
   ]
  },
  {
   "cell_type": "markdown",
   "metadata": {
    "nbgrader": {
     "grade": false,
     "grade_id": "cell-0445a903d4d596f5",
     "locked": true,
     "schema_version": 3,
     "solution": false,
     "task": false
    }
   },
   "source": [
    "### 4. Gewünschter Ablauf des Programms mit Beispieldaten:\n",
    "|||\n",
    "|:---|:---|\n",
    "|**Eingabe**|Anzahl der Gewinnerlose: 2|\n",
    "|**Ausgabe**|100022<br>1000404|\n",
    "\n",
    "## Programmcode"
   ]
  },
  {
   "cell_type": "code",
   "execution_count": null,
   "metadata": {
    "nbgrader": {
     "grade": false,
     "grade_id": "cell-b22e0b348c877af0",
     "locked": false,
     "schema_version": 3,
     "solution": true,
     "task": false
    }
   },
   "outputs": [],
   "source": [
    "### BEGIN SOLUTION\n",
    "from random import randint\n",
    "\n",
    "gewinnlose = []\n",
    "anzahl_lose = int(input(\"Anzahl der Gewinnerlose: \"))\n",
    "\n",
    "for i in range(anzahl_lose):\n",
    "    z_zahl = randint(1,500)\n",
    "    losnummer = \"1000\" + str(z_zahl)\n",
    "    gewinnlose.append(losnummer)\n",
    "\n",
    "for i in range(len(gewinnlose)):\n",
    "    print(gewinnlose[i])\n",
    "### END SOLUTION"
   ]
  },
  {
   "cell_type": "markdown",
   "metadata": {
    "nbgrader": {
     "grade": true,
     "grade_id": "cell-cfe1ecff1d42a3dc",
     "locked": false,
     "points": 0,
     "schema_version": 3,
     "solution": true,
     "task": false
    }
   },
   "source": [
    "## Struktogramm\n",
    "### BEGIN SOLUTION\n",
    "\n",
    "### END SOLUTION"
   ]
  }
 ],
 "metadata": {
  "celltoolbar": "Create Assignment",
  "kernelspec": {
   "display_name": "Python 3",
   "language": "python",
   "name": "python3"
  },
  "language_info": {
   "codemirror_mode": {
    "name": "ipython",
    "version": 3
   },
   "file_extension": ".py",
   "mimetype": "text/x-python",
   "name": "python",
   "nbconvert_exporter": "python",
   "pygments_lexer": "ipython3",
   "version": "3.7.3"
  }
 },
 "nbformat": 4,
 "nbformat_minor": 4
}
