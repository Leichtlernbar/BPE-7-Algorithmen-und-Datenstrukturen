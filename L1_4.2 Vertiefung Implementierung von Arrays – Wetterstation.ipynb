{
 "cells": [
  {
   "cell_type": "markdown",
   "metadata": {
    "nbgrader": {
     "grade": false,
     "grade_id": "cell-2462007eb719f27a",
     "locked": true,
     "schema_version": 3,
     "solution": false,
     "task": false
    }
   },
   "source": [
    "# L1_4.2 Vertiefung Implementierung von Arrays  –  Wetterstation\n",
    "### Hinweis\n",
    "Beachten Sie zur Bearbeitung der nachfolgenden Problemstellung das Informationsmaterial\n",
    "* L1_2 Information_Array.docx\n",
    "\n",
    "## Problemstellung\n",
    "Sie sollen für Ihren Ort eine Wetterstatistik führen. Dafür sollen Sie jeden Tag die Höchsttemperatur aufschreiben und am Ende der Woche die Temperaturen auswerten, indem Sie die höchste, niedrigste und die durchschnittliche Temperatur der Woche ermitteln und ausgeben. Außerdem sollen Sie die Abweichung zwischen der höchsten und der niedrigsten Temperatur ermitteln und ausgeben.\n",
    "\n",
    "## Problemanalyse\n",
    "### 1. Welche Ausgabedaten will man erhalten?"
   ]
  },
  {
   "cell_type": "markdown",
   "metadata": {
    "nbgrader": {
     "grade": true,
     "grade_id": "cell-59134403520d54a9",
     "locked": false,
     "points": 0,
     "schema_version": 3,
     "solution": true,
     "task": false
    }
   },
   "source": [
    "### BEGIN SOLUTION\n",
    "Höchste Tagestemperatur, niedrigste Tagestemperatur, \n",
    "durchschnittliche Tagestemperatur, Temperaturabweichung\n",
    "### END SOLUTION"
   ]
  },
  {
   "cell_type": "markdown",
   "metadata": {
    "nbgrader": {
     "grade": false,
     "grade_id": "cell-82c4eeb3f01e7d42",
     "locked": true,
     "schema_version": 3,
     "solution": false,
     "task": false
    }
   },
   "source": [
    "### 2. Welche Eingabedaten werden zur Bearbeitung benötigt?"
   ]
  },
  {
   "cell_type": "markdown",
   "metadata": {
    "nbgrader": {
     "grade": true,
     "grade_id": "cell-0ba20395e05ed4ef",
     "locked": false,
     "points": 0,
     "schema_version": 3,
     "solution": true,
     "task": false
    }
   },
   "source": [
    "### BEGIN SOLUTION\n",
    "Sieben Mal höchste Tagestemperatur\n",
    "### END SOLUTION"
   ]
  },
  {
   "cell_type": "markdown",
   "metadata": {
    "nbgrader": {
     "grade": false,
     "grade_id": "cell-778fe639c620de70",
     "locked": true,
     "schema_version": 3,
     "solution": false,
     "task": false
    }
   },
   "source": [
    "### 3. Welche Eigenschaften haben die Eingabe-, Verarbeitungs- und Ausgabedaten? (Variablenliste)"
   ]
  },
  {
   "cell_type": "markdown",
   "metadata": {
    "nbgrader": {
     "grade": true,
     "grade_id": "cell-a477de51c5ed0db8",
     "locked": false,
     "points": 0,
     "schema_version": 3,
     "solution": true,
     "task": false
    }
   },
   "source": [
    "|Bedeutung|Typ/Struktur|Variable|\n",
    "|:----|:----|:----|\n",
    "|hier | schreiben| ...|\n",
    "### BEGIN SOLUTION\n",
    "|maximale Temperatur|Dezimalzahl| maxT|\n",
    "|minimale Temperatur|Dezimalzahl|minT|\n",
    "|durchschnittliche Temperatur|Dezimalzahl|mittelT|\n",
    "|Temperaturabweichung|Dezimalzahl|diffT|\n",
    "|Wochentage|Array|tage[]|\n",
    "|höchste Tagestemperaturen|Array|temperaturen[]|\n",
    "### END SOLUTION"
   ]
  },
  {
   "cell_type": "markdown",
   "metadata": {
    "nbgrader": {
     "grade": false,
     "grade_id": "cell-0070f86a1e180eb1",
     "locked": true,
     "schema_version": 3,
     "solution": false,
     "task": false
    }
   },
   "source": [
    "### 4. Gewünschter Ablauf des Programms mit Beispieldaten:\n",
    "\n",
    "|||\n",
    "|:---|:---|\n",
    "|**Eingabe**|Geben Sie die jeweiligen Tageshöchsttemperaturen ein:<br>Montag: 12<br>Dienstag: 15<br>Mittwoch: 16<br>Donnerstag: 10<br>Freitag: 17<br>Samstag: 20<br>Sonntag: 22|\n",
    "|**Ausgabe**|---------AUSWERTUNG---------<br>Höchste Temperatur: 22.0<br>Niedrigste Temperatur: 10.0<br>Durchschnittstemperatur: 16.0<br>Temperaturunterschied: 12.0|\n",
    "\n",
    "## Programmcode"
   ]
  },
  {
   "cell_type": "code",
   "execution_count": null,
   "metadata": {
    "nbgrader": {
     "grade": false,
     "grade_id": "cell-0402c7d9c5986b20",
     "locked": false,
     "schema_version": 3,
     "solution": true,
     "task": false
    }
   },
   "outputs": [],
   "source": [
    "### BEGIN SOLUTION\n",
    "# Deklaration des leeren Arrays\n",
    "temperaturen = []  # Leeren Array erzeugen\n",
    "\n",
    "# Einlesen der Tageshöchsttemperaturen\n",
    "tage = [\"Montag\", \"Dienstag\", \"Mittwoch\", \"Donnerstag\", \"Freitag\", \"Samstag\", \"Sonntag\"]\n",
    "for i in range(len(tage)):\n",
    "    temp = float(input(tage[i]))\n",
    "    temperaturen.append(temp)\n",
    "\n",
    "# Deklaration und Initialisierung der Variablen\n",
    "maxT = temperaturen[0]\n",
    "minT = temperaturen[0]\n",
    "mittelT = 0\n",
    "diffT = 0\n",
    "\n",
    "# Auswertung max\n",
    "for i in range(len(temperaturen)):\n",
    "    if temperaturen[i] > maxT:\n",
    "        maxT = temperaturen[i]\n",
    "\n",
    "# Auswertung min\n",
    "for i in range(len(temperaturen)):\n",
    "    if temperaturen[i] < minT:\n",
    "        minT = temperaturen[i]\n",
    "\n",
    "# Auswertung mittelT\n",
    "for i in range(len(temperaturen)):\n",
    "    mittelT = mittelT + temperaturen[i]\n",
    "\n",
    "mittelT = mittelT / len(temperaturen)\n",
    "diffT = maxT - minT\n",
    "\n",
    "\n",
    "# Ausgabe\n",
    "print(\"-------AUSWERTUNG-------\")\n",
    "print(\"Höchste Temperatur:\", maxT)\n",
    "print(\"Niedrigste Temperatur:\", minT)\n",
    "print(\"Durchschnittstemperatur:\", mittelT)\n",
    "print(\"Temperaturunterschied:\", diffT)\n",
    "### END SOLUTION"
   ]
  }
 ],
 "metadata": {
  "celltoolbar": "Create Assignment",
  "kernelspec": {
   "display_name": "Python 3",
   "language": "python",
   "name": "python3"
  },
  "language_info": {
   "codemirror_mode": {
    "name": "ipython",
    "version": 3
   },
   "file_extension": ".py",
   "mimetype": "text/x-python",
   "name": "python",
   "nbconvert_exporter": "python",
   "pygments_lexer": "ipython3",
   "version": "3.7.3"
  }
 },
 "nbformat": 4,
 "nbformat_minor": 4
}
