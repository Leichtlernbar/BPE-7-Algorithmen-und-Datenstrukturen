{
 "cells": [
  {
   "cell_type": "markdown",
   "metadata": {
    "nbgrader": {
     "grade": false,
     "grade_id": "cell-37c6ba43a814dddb",
     "locked": true,
     "schema_version": 3,
     "solution": false,
     "task": false
    }
   },
   "source": [
    "# L2_2.1.2\tSortierung:\tBubble Sort – Zahlenreihe\n",
    "### Hinweis\n",
    "Beachten Sie zur Bearbeitung der nachfolgenden Aufgabenstellungen die Informationsmaterialien \n",
    "* L2_2.1 Information_Bubble_Sort.docx\n",
    "* L2_2.1 Präsentation_Prinzip_Bubble_Sort.ppsx.\n",
    "\n",
    "## Problemstellung\n",
    "Sie sollen ein Programm schreiben, das fünf Zahlen einliest und diese wieder sortiert ausgibt. Implementieren Sie für die Sortierung den **Bubble Sort**.\n",
    "\n",
    "## Problemanalyse\n",
    "### 1. Welche Ausgabedaten will man erhalten?"
   ]
  },
  {
   "cell_type": "markdown",
   "metadata": {
    "nbgrader": {
     "grade": true,
     "grade_id": "cell-f98b850e216541e5",
     "locked": false,
     "points": 0,
     "schema_version": 3,
     "solution": true,
     "task": false
    }
   },
   "source": [
    "### BEGIN SOLUTION\n",
    "Sortiertes Array \n",
    "### END SOLUTION"
   ]
  },
  {
   "cell_type": "markdown",
   "metadata": {
    "nbgrader": {
     "grade": false,
     "grade_id": "cell-9f6bbafb87171408",
     "locked": true,
     "schema_version": 3,
     "solution": false,
     "task": false
    }
   },
   "source": [
    "### 2. Welche Eingabedaten werden zur Bearbeitung benötigt?"
   ]
  },
  {
   "cell_type": "markdown",
   "metadata": {
    "nbgrader": {
     "grade": true,
     "grade_id": "cell-803f4e2db23330d6",
     "locked": false,
     "points": 0,
     "schema_version": 3,
     "solution": true,
     "task": false
    }
   },
   "source": [
    "### BEGIN SOLUTION\n",
    "Fünf Zahlen\n",
    "### END SOLUTION"
   ]
  },
  {
   "cell_type": "markdown",
   "metadata": {
    "nbgrader": {
     "grade": false,
     "grade_id": "cell-5c5ae10b715708ab",
     "locked": true,
     "schema_version": 3,
     "solution": false,
     "task": false
    }
   },
   "source": [
    "### 3. Welche Eigenschaften haben die Eingabe-, Verarbeitungs- und Ausgabedaten? (Variablenliste)"
   ]
  },
  {
   "cell_type": "markdown",
   "metadata": {
    "nbgrader": {
     "grade": true,
     "grade_id": "cell-f0022233926ca82a",
     "locked": false,
     "points": 0,
     "schema_version": 3,
     "solution": true,
     "task": false
    }
   },
   "source": [
    "|Bedeutung|Typ/Struktur|Variable|\n",
    "|:----|:----|:----|\n",
    "|hier | schreiben| ...|\n",
    "### BEGIN SOLUTION\n",
    "|Zahlen|Array|zahlen|\n",
    "|Anzahl der Elemente des Arrays zahlen|Ganzzahl|laenge|\n",
    "|Zwischenspeicher|Ganzzahl|zwischenspeicher|\n",
    "### END SOLUTION"
   ]
  },
  {
   "cell_type": "markdown",
   "metadata": {
    "nbgrader": {
     "grade": false,
     "grade_id": "cell-eb432f761aa3ba85",
     "locked": true,
     "schema_version": 3,
     "solution": false,
     "task": false
    }
   },
   "source": [
    "### 4. Gewünschter Ablauf des Programms mit Beispieldaten\n",
    "|||\n",
    "|:--|:---|\n",
    "|**Eingabe**|Zahl 1: 5 <br> Zahl 2: 6 <br> Zahl 3: 1<br> Zahl 4: 2 <br> Zahl 5: 3|\n",
    "|**Ausgabe**|1 <br> 2 <br> 3<br> 5 <br> 6|\n",
    "\n",
    "## Programmcode"
   ]
  },
  {
   "cell_type": "code",
   "execution_count": null,
   "metadata": {
    "nbgrader": {
     "grade": false,
     "grade_id": "cell-624f722ce23a459b",
     "locked": false,
     "schema_version": 3,
     "solution": true,
     "task": false
    }
   },
   "outputs": [],
   "source": [
    "# Array deklarieren\n",
    "zahlen = []\n",
    "\n",
    "#Eingabe\n",
    "zahlen.append(int(input(\"Zahl 1: \")))\n",
    "zahlen.append(int(input(\"Zahl 2: \")))\n",
    "zahlen.append(int(input(\"Zahl 3: \")))\n",
    "zahlen.append(int(input(\"Zahl 4: \")))\n",
    "zahlen.append(int(input(\"Zahl 5: \")))\n",
    "\n",
    "# Sortierung und ... \n",
    "# Ausgabe\n",
    "### BEGIN SOLUTION\n",
    "laenge = len(zahlen)\n",
    "\n",
    "#Sortierung\n",
    "for i in range(1, laenge):\n",
    "    for j in range(laenge-i):\n",
    "        if zahlen[j] > zahlen[j+1]:\n",
    "            zwischenspeicher = zahlen[j]\n",
    "            zahlen[j] = zahlen[j+1]\n",
    "            zahlen[j+1] = zwischenspeicher\n",
    "\n",
    "#Ausgabe\n",
    "for i in range(laenge):\n",
    "    print(zahlen[i]) \n",
    "### END SOLUTION"
   ]
  },
  {
   "cell_type": "markdown",
   "metadata": {
    "nbgrader": {
     "grade": true,
     "grade_id": "cell-e00af881d917e4e3",
     "locked": false,
     "points": 0,
     "schema_version": 3,
     "solution": true,
     "task": false
    }
   },
   "source": [
    "## Struktogramm\n",
    "### BEGIN SOLUTION\n",
    "\n",
    "### END SOLUTION"
   ]
  }
 ],
 "metadata": {
  "celltoolbar": "Create Assignment",
  "kernelspec": {
   "display_name": "Python 3",
   "language": "python",
   "name": "python3"
  },
  "language_info": {
   "codemirror_mode": {
    "name": "ipython",
    "version": 3
   },
   "file_extension": ".py",
   "mimetype": "text/x-python",
   "name": "python",
   "nbconvert_exporter": "python",
   "pygments_lexer": "ipython3",
   "version": "3.7.3"
  }
 },
 "nbformat": 4,
 "nbformat_minor": 4
}
